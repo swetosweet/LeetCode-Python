{
 "cells": [
  {
   "cell_type": "code",
   "execution_count": 46,
   "metadata": {},
   "outputs": [
    {
     "data": {
      "text/plain": [
       "[0, 1, 1, 2, 3, 5, 8, 13, 21]"
      ]
     },
     "execution_count": 46,
     "metadata": {},
     "output_type": "execute_result"
    }
   ],
   "source": [
    "def fibonaci(n):\n",
    "    fib=[0,1]\n",
    "    for i in range(2,n):\n",
    "        fib.append(fib[i-2]+fib[i-1])\n",
    "    return fib\n",
    "\n",
    "fibonaci(9)"
   ]
  },
  {
   "cell_type": "markdown",
   "metadata": {},
   "source": [
    "1119. Remove Vowels from a String\n",
    "Given a string S, remove the vowels 'a', 'e', 'i', 'o', and 'u' from it, and return the new string.\n",
    "Input: \"leetcodeisacommunityforcoders\"  ,  Output: \"ltcdscmmntyfrcdrs\""
   ]
  },
  {
   "cell_type": "code",
   "execution_count": 52,
   "metadata": {},
   "outputs": [
    {
     "data": {
      "text/plain": [
       "'ltcdscmmntyfrcdrs'"
      ]
     },
     "execution_count": 52,
     "metadata": {},
     "output_type": "execute_result"
    }
   ],
   "source": [
    "def Remove_Vowel(s):\n",
    "    new_str = \"\"\n",
    "    for i in s:\n",
    "        if i in ('a', 'e', 'i', 'o', 'u'):\n",
    "            continue\n",
    "        else:\n",
    "            new_str = new_str + i\n",
    "    return new_str\n",
    "\n",
    "Remove_Vowel(\"leetcodeisacommunityforcoders\" )\n",
    "Remove_Vowel(\"aeiou\")\n",
    "\n",
    "# same problem using dictionary\n",
    "\n",
    "def Remove_Vowel(s,m):\n",
    "    new_str = \"\"\n",
    "    import collections\n",
    "    from collections import Counter\n",
    "    d=Counter(m)\n",
    "    for i in s:\n",
    "        if i in d:\n",
    "            continue\n",
    "        else:\n",
    "            new_str = new_str + i\n",
    "    return new_str\n",
    "\n",
    "Remove_Vowel(\"leetcodeisacommunityforcoders\" , \"aeiou\")"
   ]
  },
  {
   "cell_type": "markdown",
   "metadata": {},
   "source": [
    "1108. Defanging an IP Address\n",
    "Given a valid (IPv4) IP address, return a defanged version of that IP address.\n",
    "A defanged IP address replaces every period \".\" with \"[.]\".\n",
    "Example 1:\n",
    "Input: address = \"1.1.1.1\"\n",
    "Output: \"1[.]1[.]1[.]1\""
   ]
  },
  {
   "cell_type": "code",
   "execution_count": 1,
   "metadata": {},
   "outputs": [
    {
     "data": {
      "text/plain": [
       "'255[.]100[.]50[.]0'"
      ]
     },
     "execution_count": 1,
     "metadata": {},
     "output_type": "execute_result"
    }
   ],
   "source": [
    "def defang_IP_Address(s):\n",
    "    return s.replace(\".\",\"[.]\")\n",
    "\n",
    "defang_IP_Address(\"255.100.50.0\")"
   ]
  },
  {
   "cell_type": "markdown",
   "metadata": {},
   "source": [
    "1165. Single-Row Keyboard\n",
    "\n",
    "There is a special keyboard with all keys in a single row.\n",
    "\n",
    "Given a string keyboard of length 26 indicating the layout of the keyboard (indexed from 0 to 25), initially your finger is at index 0. To type a character, you have to move your finger to the index of the desired character. The time taken to move your finger from index i to index j is |i - j|.\n",
    "\n",
    "You want to type a string word. Write a function to calculate how much time it takes to type it with one finger."
   ]
  },
  {
   "cell_type": "code",
   "execution_count": 19,
   "metadata": {},
   "outputs": [
    {
     "name": "stdout",
     "output_type": "stream",
     "text": [
      "11\n",
      "7\n",
      "0\n",
      "15\n",
      "17\n",
      "12\n",
      "11\n",
      "1\n"
     ]
    },
    {
     "data": {
      "text/plain": [
       "74"
      ]
     },
     "execution_count": 19,
     "metadata": {},
     "output_type": "execute_result"
    }
   ],
   "source": [
    "def Calculate_Time(word):\n",
    "    keyboard=\"abcdefghijklmnopqrstuvwxyz\"\n",
    "    d={}\n",
    "    time=0\n",
    "    sum=0\n",
    "    for i in range(len(keyboard)):\n",
    "        d[keyboard[i]]=i\n",
    "    for i in range(len(word)):\n",
    "        if word[i] in d.keys():\n",
    "            temp=abs(time-d[word[i]]) # 11, \n",
    "            print(temp)\n",
    "            sum=sum+temp # 11, \n",
    "            time=d[word[i]]\n",
    "    return sum\n",
    "\n",
    "#Calculate_Time(\"cba\") # 4\n",
    "Calculate_Time(\"leetcode\")"
   ]
  },
  {
   "cell_type": "code",
   "execution_count": null,
   "metadata": {},
   "outputs": [],
   "source": []
  }
 ],
 "metadata": {
  "kernelspec": {
   "display_name": "Python 3",
   "language": "python",
   "name": "python3"
  },
  "language_info": {
   "codemirror_mode": {
    "name": "ipython",
    "version": 3
   },
   "file_extension": ".py",
   "mimetype": "text/x-python",
   "name": "python",
   "nbconvert_exporter": "python",
   "pygments_lexer": "ipython3",
   "version": "3.7.0"
  }
 },
 "nbformat": 4,
 "nbformat_minor": 2
}
