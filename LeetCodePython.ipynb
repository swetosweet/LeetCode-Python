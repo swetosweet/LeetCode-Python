{
 "cells": [
  {
   "cell_type": "code",
   "execution_count": 46,
   "metadata": {},
   "outputs": [
    {
     "data": {
      "text/plain": [
       "[0, 1, 1, 2, 3, 5, 8, 13, 21]"
      ]
     },
     "execution_count": 46,
     "metadata": {},
     "output_type": "execute_result"
    }
   ],
   "source": [
    "def fibonaci(n):\n",
    "    fib=[0,1]\n",
    "    for i in range(2,n):\n",
    "        fib.append(fib[i-2]+fib[i-1])\n",
    "    return fib\n",
    "\n",
    "fibonaci(9)"
   ]
  },
  {
   "cell_type": "markdown",
   "metadata": {},
   "source": [
    "1119. Remove Vowels from a String\n",
    "Given a string S, remove the vowels 'a', 'e', 'i', 'o', and 'u' from it, and return the new string.\n",
    "Input: \"leetcodeisacommunityforcoders\"  ,  Output: \"ltcdscmmntyfrcdrs\""
   ]
  },
  {
   "cell_type": "code",
   "execution_count": 52,
   "metadata": {},
   "outputs": [
    {
     "data": {
      "text/plain": [
       "'ltcdscmmntyfrcdrs'"
      ]
     },
     "execution_count": 52,
     "metadata": {},
     "output_type": "execute_result"
    }
   ],
   "source": [
    "def Remove_Vowel(s):\n",
    "    new_str = \"\"\n",
    "    for i in s:\n",
    "        if i in ('a', 'e', 'i', 'o', 'u'):\n",
    "            continue\n",
    "        else:\n",
    "            new_str = new_str + i\n",
    "    return new_str\n",
    "\n",
    "Remove_Vowel(\"leetcodeisacommunityforcoders\" )\n",
    "Remove_Vowel(\"aeiou\")\n",
    "\n",
    "# same problem using dictionary\n",
    "\n",
    "def Remove_Vowel(s,m):\n",
    "    new_str = \"\"\n",
    "    import collections\n",
    "    from collections import Counter\n",
    "    d=Counter(m)\n",
    "    for i in s:\n",
    "        if i in d:\n",
    "            continue\n",
    "        else:\n",
    "            new_str = new_str + i\n",
    "    return new_str\n",
    "\n",
    "Remove_Vowel(\"leetcodeisacommunityforcoders\" , \"aeiou\")"
   ]
  },
  {
   "cell_type": "markdown",
   "metadata": {},
   "source": [
    "1108. Defanging an IP Address\n",
    "Given a valid (IPv4) IP address, return a defanged version of that IP address.\n",
    "A defanged IP address replaces every period \".\" with \"[.]\".\n",
    "Example 1:\n",
    "Input: address = \"1.1.1.1\"\n",
    "Output: \"1[.]1[.]1[.]1\""
   ]
  },
  {
   "cell_type": "code",
   "execution_count": 12,
   "metadata": {},
   "outputs": [
    {
     "data": {
      "text/plain": [
       "'255[.]100[.]50[.]0'"
      ]
     },
     "execution_count": 12,
     "metadata": {},
     "output_type": "execute_result"
    }
   ],
   "source": [
    "def defang_IP_Address(s):\n",
    "    return s.replace(\".\",\"[.]\")\n",
    "\n",
    "defang_IP_Address(\"255.100.50.0\")\n",
    "\n",
    "def defang_IP_Address(s):\n",
    "    new_s=\"\"\n",
    "    for i in range(len(s)):\n",
    "        if s[i]!=\".\":\n",
    "            new_s=new_s+s[i]\n",
    "        else:\n",
    "            new_s=new_s+\"[.]\"\n",
    "    return new_s\n",
    "\n",
    "defang_IP_Address(\"255.100.50.0\")\n"
   ]
  },
  {
   "cell_type": "markdown",
   "metadata": {},
   "source": [
    "1165. Single-Row Keyboard\n",
    "\n",
    "There is a special keyboard with all keys in a single row.\n",
    "\n",
    "Given a string keyboard of length 26 indicating the layout of the keyboard (indexed from 0 to 25), initially your finger is at index 0. To type a character, you have to move your finger to the index of the desired character. The time taken to move your finger from index i to index j is |i - j|.\n",
    "\n",
    "You want to type a string word. Write a function to calculate how much time it takes to type it with one finger."
   ]
  },
  {
   "cell_type": "code",
   "execution_count": 19,
   "metadata": {},
   "outputs": [
    {
     "name": "stdout",
     "output_type": "stream",
     "text": [
      "11\n",
      "7\n",
      "0\n",
      "15\n",
      "17\n",
      "12\n",
      "11\n",
      "1\n"
     ]
    },
    {
     "data": {
      "text/plain": [
       "74"
      ]
     },
     "execution_count": 19,
     "metadata": {},
     "output_type": "execute_result"
    }
   ],
   "source": [
    "def Calculate_Time(word):\n",
    "    keyboard=\"abcdefghijklmnopqrstuvwxyz\"\n",
    "    d={}\n",
    "    time=0\n",
    "    sum=0\n",
    "    for i in range(len(keyboard)):\n",
    "        d[keyboard[i]]=i\n",
    "    for i in range(len(word)):\n",
    "        if word[i] in d.keys():\n",
    "            temp=abs(time-d[word[i]]) # 11, \n",
    "            print(temp)\n",
    "            sum=sum+temp # 11, \n",
    "            time=d[word[i]]\n",
    "    return sum\n",
    "\n",
    "#Calculate_Time(\"cba\") # 4\n",
    "Calculate_Time(\"leetcode\")"
   ]
  },
  {
   "cell_type": "markdown",
   "metadata": {},
   "source": [
    "771. Jewels and Stones\n",
    "\n",
    "You're given strings J representing the types of stones that are jewels, and S representing the stones you have.  Each character in S is a type of stone you have.  You want to know how many of the stones you have are also jewels.\n",
    "\n",
    "The letters in J are guaranteed distinct, and all characters in J and S are letters. Letters are case sensitive, so \"a\" is considered a different type of stone from \"A\".\n",
    "\n",
    "Example 1: Input: J = \"aA\", S = \"aAAbbbb\"  ,   Output: 3\n",
    "Example 2: Input: J = \"z\", S = \"ZZ\"  ,  Output: 0"
   ]
  },
  {
   "cell_type": "code",
   "execution_count": 2,
   "metadata": {},
   "outputs": [
    {
     "data": {
      "text/plain": [
       "0"
      ]
     },
     "execution_count": 2,
     "metadata": {},
     "output_type": "execute_result"
    }
   ],
   "source": [
    "def Jewls_Stones(J,S):\n",
    "    sum=0\n",
    "    import collections\n",
    "    from collections import Counter\n",
    "    c=Counter(S)\n",
    "    for i in J:\n",
    "        if i in c:\n",
    "            sum=sum+c[i]\n",
    "    return sum        \n",
    "            \n",
    "Jewls_Stones(\"aA\",\"aAAbbbb\") # 3\n",
    "Jewls_Stones(\"z\",\"ZZ\") # 0"
   ]
  },
  {
   "cell_type": "markdown",
   "metadata": {},
   "source": [
    "760. Find Anagram Mappings\n",
    "\n",
    "Given two lists Aand B, and B is an anagram of A. B is an anagram of A means B is made by randomizing the order of the elements in A.\n",
    "We want to find an index mapping P, from A to B. A mapping P[i] = j means the ith element in A appears in B at index j.\n",
    "These lists A and B may contain duplicates. If there are multiple answers, output any of them.\n",
    "For example, given\n",
    "A = [12, 28, 46, 32, 50]\n",
    "B = [50, 12, 32, 46, 28]\n",
    "We should return\n",
    "[1, 4, 3, 2, 0]"
   ]
  },
  {
   "cell_type": "code",
   "execution_count": 16,
   "metadata": {},
   "outputs": [
    {
     "name": "stdout",
     "output_type": "stream",
     "text": [
      "{50: 0, 12: 1, 32: 2, 46: 3, 28: 4}\n"
     ]
    },
    {
     "data": {
      "text/plain": [
       "[1, 4, 3, 2, 0]"
      ]
     },
     "execution_count": 16,
     "metadata": {},
     "output_type": "execute_result"
    }
   ],
   "source": [
    "def anagramMappings(A,B):\n",
    "    index_postn=[]\n",
    "    d={}\n",
    "    for i in B:\n",
    "        d[i]=B.index(i)\n",
    "    print(d)\n",
    "    for i in A:\n",
    "        if i in d:\n",
    "            index_postn.append(d[i])\n",
    "    return index_postn\n",
    "\n",
    "anagramMappings([12, 28, 46, 32, 50],[50, 12, 32, 46, 28])"
   ]
  },
  {
   "cell_type": "code",
   "execution_count": 19,
   "metadata": {},
   "outputs": [
    {
     "data": {
      "text/plain": [
       "4"
      ]
     },
     "execution_count": 19,
     "metadata": {},
     "output_type": "execute_result"
    }
   ],
   "source": [
    "s = \"LLLLRRRR\"\n",
    "s.index(\"R\")"
   ]
  },
  {
   "cell_type": "markdown",
   "metadata": {},
   "source": [
    "1221. Split a String in Balanced Strings\n",
    "Balanced strings are those who have equal quantity of 'L' and 'R' characters.\n",
    "Given a balanced string s split it in the maximum amount of balanced strings.\n",
    "Return the maximum amount of splitted balanced strings.\n",
    "\n",
    "Ex-1: Input: s = \"RLRRLLRLRL\", Output: 4\n",
    "Explanation: s can be split into \"RL\", \"RRLL\", \"RL\", \"RL\", each substring contains same number of 'L' and 'R'.\n",
    "Ex-2: Input: s = \"RLLLLRRRLR\", Output: 3\n",
    "Ex-3: Input: s = \"LLLLRRRR\", Output: 1\n",
    "Ex-4: Input: s = \"RLRRRLLRLL\", Output: 2"
   ]
  },
  {
   "cell_type": "code",
   "execution_count": 24,
   "metadata": {},
   "outputs": [
    {
     "data": {
      "text/plain": [
       "2"
      ]
     },
     "execution_count": 24,
     "metadata": {},
     "output_type": "execute_result"
    }
   ],
   "source": [
    "def balancedStringSplit(s):\n",
    "    L_cnt=0\n",
    "    R_cnt=0\n",
    "    output=0\n",
    "    for i in s:\n",
    "        if i==\"L\":\n",
    "            L_cnt=L_cnt+1\n",
    "        else:\n",
    "            R_cnt=R_cnt+1\n",
    "        if L_cnt==R_cnt:\n",
    "            output=output+1\n",
    "            L_cnt=0\n",
    "            R_cnt=0\n",
    "    return output\n",
    "\n",
    "balancedStringSplit(\"RLRRLLRLRL\") # 4\n",
    "balancedStringSplit(\"RLLLLRRRLR\") # 3\n",
    "balancedStringSplit(\"LLLLRRRR\") # 1\n",
    "balancedStringSplit(\"RLRRRLLRLL\") # 2"
   ]
  },
  {
   "cell_type": "markdown",
   "metadata": {},
   "source": [
    "1266. Minimum Time Visiting All Points\n",
    "On a plane there are n points with integer coordinates points[i] = [xi, yi]. \n",
    "Your task is to find the minimum time in seconds to visit all points.\n",
    "You can move according to the next rules:\n",
    "In one second always you can either move vertically, horizontally by one unit or diagonally (it means to move one unit vertically and one unit horizontally in one second).\n",
    "You have to visit the points in the same order as they appear in the array.\n",
    "Input: points = [[1,1],[3,4],[-1,0]], Output: 7\n",
    "Explanation: One optimal path is [1,1] -> [2,2] -> [3,3] -> [3,4] -> [2,3] -> [1,2] -> [0,1] -> [-1,0]   \n",
    "Time from [1,1] to [3,4] = 3 seconds \n",
    "Time from [3,4] to [-1,0] = 4 seconds\n",
    "Total time = 7 seconds"
   ]
  },
  {
   "cell_type": "code",
   "execution_count": 45,
   "metadata": {},
   "outputs": [
    {
     "name": "stdout",
     "output_type": "stream",
     "text": [
      "2\n",
      "3\n",
      "-4\n",
      "-4\n"
     ]
    },
    {
     "data": {
      "text/plain": [
       "7"
      ]
     },
     "execution_count": 45,
     "metadata": {},
     "output_type": "execute_result"
    }
   ],
   "source": [
    "def minTimeToVisitAllPoints(l):\n",
    "    count=0\n",
    "    a=0\n",
    "    b=0\n",
    "    for i in range(len(l)-1):\n",
    "        a=l[i+1][0]-l[i][0]\n",
    "        print(a)\n",
    "        b=l[i+1][1]-l[i][1]\n",
    "        print(b)\n",
    "        if abs(a)>abs(b):\n",
    "            count=count+abs(a)\n",
    "        else:\n",
    "            count=count+abs(b)\n",
    "    return count\n",
    "\n",
    "minTimeToVisitAllPoints([[1,1],[3,4],[-1,0]]) # 7\n",
    "#minTimeToVisitAllPoints([[3,2],[-2,2]])\n"
   ]
  },
  {
   "cell_type": "markdown",
   "metadata": {},
   "source": [
    "709. To Lower Case"
   ]
  },
  {
   "cell_type": "code",
   "execution_count": 13,
   "metadata": {},
   "outputs": [
    {
     "data": {
      "text/plain": [
       "'swetto'"
      ]
     },
     "execution_count": 13,
     "metadata": {},
     "output_type": "execute_result"
    }
   ],
   "source": [
    "#def toLowerCase(s):\n",
    "    #return s.lower()\n",
    "\n",
    "def toLowerCase(s):\n",
    "    new_s=\"\"\n",
    "    for i in s:\n",
    "        if ord(i)<97:\n",
    "            i=chr(ord(i)+32)\n",
    "            new_s=new_s+i\n",
    "        else:\n",
    "            new_s=new_s+i\n",
    "    return new_s\n",
    "    \n",
    "toLowerCase(\"SWEtto\")"
   ]
  },
  {
   "cell_type": "markdown",
   "metadata": {},
   "source": [
    "1134. Armstrong Number"
   ]
  },
  {
   "cell_type": "code",
   "execution_count": 19,
   "metadata": {},
   "outputs": [
    {
     "data": {
      "text/plain": [
       "False"
      ]
     },
     "execution_count": 19,
     "metadata": {},
     "output_type": "execute_result"
    }
   ],
   "source": [
    "def isArmstrong(N):\n",
    "    digit_sum=0\n",
    "    new_N=N\n",
    "    k=len(str(N))\n",
    "    while N>0:\n",
    "        digit_sum=digit_sum+(N%10)**k\n",
    "        N=int(N/10)\n",
    "    if digit_sum==new_N:\n",
    "        return True\n",
    "    else:\n",
    "        return False\n",
    "\n",
    "\n",
    "isArmstrong(153) # True\n",
    "isArmstrong(123) # False"
   ]
  },
  {
   "cell_type": "markdown",
   "metadata": {},
   "source": [
    "1252. Cells with Odd Values in a Matrix\n",
    "Given n and m which are the dimensions of a matrix initialized by zeros and given an array indices where indices[i] = [ri, ci]. For each pair of [ri, ci] you have to increment all cells in row ri and column ci by 1.\n",
    "Return the number of cells with odd values in the matrix after applying the increment to all indices.\n",
    "\n",
    "Example 1:\n",
    "Input: n = 2, m = 3, indices = [[0,1],[1,1]]\n",
    "Output: 6\n",
    "Explanation: Initial matrix = [[0,0,0],[0,0,0]].\n",
    "After applying first increment it becomes [[1,2,1],[0,1,0]].\n",
    "The final matrix will be [[1,3,1],[1,3,1]] which contains 6 odd numbers."
   ]
  },
  {
   "cell_type": "code",
   "execution_count": 57,
   "metadata": {},
   "outputs": [
    {
     "data": {
      "text/plain": [
       "6"
      ]
     },
     "execution_count": 57,
     "metadata": {},
     "output_type": "execute_result"
    }
   ],
   "source": [
    "def oddCells(n,m,indices):\n",
    "    count=0\n",
    "    import numpy as np\n",
    "    mat=np.zeros((n,m))\n",
    "    for i in indices:\n",
    "        mat[i[0]]=mat[i[0]]+1\n",
    "        #mat[:,i[1]]=mat[:,i[1]]+1\n",
    "        mat[:][i[1]]=mat[:][i[1]]+1 # Both are same\n",
    "    for i in np.nditer(mat):\n",
    "        if i%2 != 0:\n",
    "            count=count+1\n",
    "    return count\n",
    "\n",
    "oddCells(2,3,[[0,1],[1,1]])"
   ]
  },
  {
   "cell_type": "code",
   "execution_count": 55,
   "metadata": {},
   "outputs": [
    {
     "data": {
      "text/plain": [
       "8"
      ]
     },
     "execution_count": 55,
     "metadata": {},
     "output_type": "execute_result"
    }
   ],
   "source": [
    "import numpy as np\n",
    "a=np.array([[1,2,3],[4,5,6],[7,8,9]])\n",
    "a[2,1]"
   ]
  },
  {
   "cell_type": "markdown",
   "metadata": {},
   "source": [
    "1213. Intersection of Three Sorted Arrays\n",
    "Given three integer arrays arr1, arr2 and arr3 sorted in strictly increasing order, return a sorted array of only the integers that appeared in all three arrays.\n",
    "Example 1:\n",
    "Input: arr1 = [1,2,3,4,5], arr2 = [1,2,5,7,9], arr3 = [1,3,4,5,8]\n",
    "Output: [1,5]\n",
    "Explanation: Only 1 and 5 appeared in the three arrays."
   ]
  },
  {
   "cell_type": "code",
   "execution_count": 58,
   "metadata": {},
   "outputs": [
    {
     "data": {
      "text/plain": [
       "[1, 5]"
      ]
     },
     "execution_count": 58,
     "metadata": {},
     "output_type": "execute_result"
    }
   ],
   "source": [
    "def arraysIntersection(arr1,arr2,arr3):\n",
    "    output=[]\n",
    "    for i in arr1:\n",
    "        if i in arr2 and i in arr3:\n",
    "            output.append(i)\n",
    "    return output\n",
    "\n",
    "arraysIntersection(arr1 = [1,2,3,4,5], arr2 = [1,2,5,7,9], arr3 = [1,3,4,5,8])"
   ]
  },
  {
   "cell_type": "code",
   "execution_count": null,
   "metadata": {},
   "outputs": [],
   "source": []
  }
 ],
 "metadata": {
  "kernelspec": {
   "display_name": "Python 3",
   "language": "python",
   "name": "python3"
  },
  "language_info": {
   "codemirror_mode": {
    "name": "ipython",
    "version": 3
   },
   "file_extension": ".py",
   "mimetype": "text/x-python",
   "name": "python",
   "nbconvert_exporter": "python",
   "pygments_lexer": "ipython3",
   "version": "3.7.0"
  }
 },
 "nbformat": 4,
 "nbformat_minor": 2
}
